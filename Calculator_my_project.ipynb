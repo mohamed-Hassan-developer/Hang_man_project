{
 "cells": [
  {
   "cell_type": "markdown",
   "id": "d9a9817f",
   "metadata": {},
   "source": [
    "## Summation"
   ]
  },
  {
   "cell_type": "code",
   "execution_count": 10,
   "id": "621f5125",
   "metadata": {},
   "outputs": [
    {
     "data": {
      "text/plain": [
       "30"
      ]
     },
     "execution_count": 10,
     "metadata": {},
     "output_type": "execute_result"
    }
   ],
   "source": [
    "def sum(x,y):\n",
    "    return x+y\n",
    "\n",
    "sum(25,5)   "
   ]
  },
  {
   "cell_type": "markdown",
   "id": "fa6e86a1",
   "metadata": {},
   "source": [
    "#Subtration"
   ]
  },
  {
   "cell_type": "code",
   "execution_count": 7,
   "id": "d8eefa7b",
   "metadata": {},
   "outputs": [
    {
     "data": {
      "text/plain": [
       "5"
      ]
     },
     "execution_count": 7,
     "metadata": {},
     "output_type": "execute_result"
    }
   ],
   "source": [
    "def sub(x,y):\n",
    "    return (x-y)\n",
    "\n",
    "sub(10,5)    "
   ]
  },
  {
   "cell_type": "markdown",
   "id": "950e76c3",
   "metadata": {},
   "source": [
    "## MUlti"
   ]
  },
  {
   "cell_type": "code",
   "execution_count": 11,
   "id": "8d77a70e",
   "metadata": {},
   "outputs": [
    {
     "data": {
      "text/plain": [
       "80"
      ]
     },
     "execution_count": 11,
     "metadata": {},
     "output_type": "execute_result"
    }
   ],
   "source": [
    "def multi(x,y):\n",
    "    return x*y\n",
    "\n",
    "multi(10,8)    \n"
   ]
  }
 ],
 "metadata": {
  "kernelspec": {
   "display_name": "Apex",
   "language": "python",
   "name": "python3"
  },
  "language_info": {
   "codemirror_mode": {
    "name": "ipython",
    "version": 3
   },
   "file_extension": ".py",
   "mimetype": "text/x-python",
   "name": "python",
   "nbconvert_exporter": "python",
   "pygments_lexer": "ipython3",
   "version": "3.10.18"
  }
 },
 "nbformat": 4,
 "nbformat_minor": 5
}
